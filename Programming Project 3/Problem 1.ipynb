{
 "cells": [
  {
   "cell_type": "markdown",
   "metadata": {},
   "source": [
    "# Problem 1: Dixon's random squares algorithm"
   ]
  },
  {
   "cell_type": "code",
   "execution_count": 5,
   "metadata": {},
   "outputs": [],
   "source": [
    "import math\n",
    "import numpy as np\n",
    "from typing import List, Tuple\n",
    "import random\n",
    "import itertools"
   ]
  },
  {
   "cell_type": "code",
   "execution_count": 2,
   "metadata": {},
   "outputs": [],
   "source": [
    "n = 256961\n",
    "factor_base = [-1, 2, 3, 5, 7, 11, 13, 17, 19, 23, 29, 31]"
   ]
  },
  {
   "cell_type": "code",
   "execution_count": 3,
   "metadata": {},
   "outputs": [],
   "source": [
    "def factor(n: int, factor_base: List[int]) -> List[int]:\n",
    "    if not n or not factor_base:\n",
    "        return []\n",
    "    \n",
    "    exponents = list()\n",
    "    \n",
    "    for fact in factor_base:\n",
    "        if fact == -1:\n",
    "            if abs(n) == n:\n",
    "                exponents.append(0)\n",
    "            else:\n",
    "                n = abs(n)\n",
    "                exponents.append(1)\n",
    "        else:\n",
    "            i = 0\n",
    "            while math.gcd(fact, n) != 1:\n",
    "                n = n//fact\n",
    "                i += 1\n",
    "\n",
    "            exponents.append(i)\n",
    "    \n",
    "    if n != 1:\n",
    "        return []\n",
    "    else:\n",
    "        return exponents"
   ]
  },
  {
   "cell_type": "code",
   "execution_count": 4,
   "metadata": {},
   "outputs": [
    {
     "name": "stdout",
     "output_type": "stream",
     "text": [
      "[0, 5]\n",
      "[]\n",
      "[1, 0, 5]\n"
     ]
    }
   ],
   "source": [
    "# testing factor fct:\n",
    "print(factor(243, [2, 3]))\n",
    "print(factor(243, [2]))\n",
    "print(factor(-243, [-1, 2, 3]))"
   ]
  },
  {
   "cell_type": "code",
   "execution_count": 20,
   "metadata": {},
   "outputs": [],
   "source": [
    "def dixon(n: int, factor_base: List[int]) -> Tuple[int]:\n",
    "    c = len(factor_base) + 6\n",
    "    factorable_squares = dict()\n",
    "    for z in range(math.floor(math.sqrt(n)), n):\n",
    "        if len(factorable_squares)> c:\n",
    "            break\n",
    "        z_squared_mod_n = (z*z)%n\n",
    "        fact1 = factor(z_squared_mod_n, factor_base)\n",
    "        fact2 = factor(z_squared_mod_n - n, factor_base)\n",
    "        if fact1:\n",
    "            factorable_squares[z] = np.remainder(fact1, 2)\n",
    "        elif fact2:\n",
    "            factorable_squares[z] = np.remainder(fact2, 2)\n",
    "    \n",
    "    z_subsets = []\n",
    "    for i in range(1, c):\n",
    "        z_subsets.extend(list(itertools.combinations(factorable_squares.keys(), i)))\n",
    "    \n",
    "    chosen_z_subsets = list()\n",
    "    for z_subset in z_subsets:\n",
    "        subset_sum = np.zeros(len(factor_base), dtype = int)\n",
    "        for z in z_subset:\n",
    "            subset_sum += factorable_squares[z]\n",
    "        \n",
    "        if (subset_sum == 0).all() :\n",
    "            chosen_z_subsets.append(z_subset)\n",
    "    \n",
    "    \n",
    "    for z_subset in chosen_z_subsets:\n",
    "        a = np.prod(z_subset)\n",
    "        # finding activated factors in factor_base:\n",
    "        b = 1\n",
    "        for i in range(len(factor_base)):\n",
    "            for z in z_subset:\n",
    "                if factorable_squares[z][i] == 1:\n",
    "                    b *= factor_base[i]\n",
    "                    break\n",
    "                \n",
    "                g1 = math.gcd(a+b, n)\n",
    "                g2 = math.gcd(a-b, n)\n",
    "                if g1 != 1:\n",
    "                    return (g1, n//g1)\n",
    "                \n",
    "                elif g2 != 1:\n",
    "                    return (g2, n//g2)\n",
    "    \n",
    "    print(\"No factorization found\")\n",
    "    return None\n",
    "                "
   ]
  },
  {
   "cell_type": "code",
   "execution_count": 21,
   "metadata": {},
   "outputs": [
    {
     "data": {
      "text/plain": [
       "(293, 877)"
      ]
     },
     "execution_count": 21,
     "metadata": {},
     "output_type": "execute_result"
    }
   ],
   "source": [
    "dixon(n, factor_base)"
   ]
  },
  {
   "cell_type": "code",
   "execution_count": 22,
   "metadata": {},
   "outputs": [
    {
     "name": "stdout",
     "output_type": "stream",
     "text": [
      "n = 256961\n",
      "293 * 877 = 256961\n"
     ]
    }
   ],
   "source": [
    "# let's check if these values are equal to n:\n",
    "print(\"n =\", n)\n",
    "print(\"293 * 877 =\", 293 * 877)"
   ]
  },
  {
   "cell_type": "code",
   "execution_count": null,
   "metadata": {},
   "outputs": [],
   "source": []
  }
 ],
 "metadata": {
  "kernelspec": {
   "display_name": "Python 3",
   "language": "python",
   "name": "python3"
  },
  "language_info": {
   "codemirror_mode": {
    "name": "ipython",
    "version": 3
   },
   "file_extension": ".py",
   "mimetype": "text/x-python",
   "name": "python",
   "nbconvert_exporter": "python",
   "pygments_lexer": "ipython3",
   "version": "3.7.3"
  }
 },
 "nbformat": 4,
 "nbformat_minor": 2
}
