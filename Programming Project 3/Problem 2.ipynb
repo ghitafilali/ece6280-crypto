{
 "cells": [
  {
   "cell_type": "markdown",
   "metadata": {},
   "source": [
    "# Problem 2: Decrypt El Gamal"
   ]
  },
  {
   "cell_type": "code",
   "execution_count": 1,
   "metadata": {},
   "outputs": [],
   "source": [
    "from typing import Tuple, List\n",
    "import math\n",
    "import numpy as np"
   ]
  },
  {
   "cell_type": "code",
   "execution_count": 2,
   "metadata": {},
   "outputs": [],
   "source": [
    "p = 31847\n",
    "alpha = 5\n",
    "a = 7899\n",
    "beta = 18074"
   ]
  },
  {
   "cell_type": "code",
   "execution_count": 3,
   "metadata": {},
   "outputs": [],
   "source": [
    "# Given that the p we will be dealing with is prime,\n",
    "# we compute the multiplicative inverse as follows\n",
    "\n",
    "def compute_inverse(a, m) : \n",
    "      \n",
    "    g = math.gcd(a, m) \n",
    "      \n",
    "    if (g != 1) : \n",
    "        raise ValueError(\"Inverse doesn't exist\") \n",
    "          \n",
    "    else : \n",
    "          \n",
    "        # If a and m are relatively prime, \n",
    "        # then modulo inverse is a^(m-2) mode m \n",
    "        return power(a, m - 2, m)\n",
    "      \n",
    "# To compute x^y under modulo m \n",
    "def power(x, y, m) : \n",
    "      \n",
    "    if (y == 0) : \n",
    "        return 1\n",
    "          \n",
    "    p = power(x, y // 2, m) % m \n",
    "    p = (p * p) % m \n",
    "  \n",
    "    if(y % 2 == 0) : \n",
    "        return p  \n",
    "    else :  \n",
    "        return ((x * p) % m) \n",
    "  "
   ]
  },
  {
   "cell_type": "code",
   "execution_count": 4,
   "metadata": {},
   "outputs": [],
   "source": [
    "def decrypt_el_gamal(cipher_text: Tuple[int], a: int,\n",
    "                     p: int) -> int:\n",
    "    y1, y2 = cipher_text\n",
    "    y1_a = power(y1, a, p)\n",
    "    return (y2*compute_inverse(y1_a, p))%p"
   ]
  },
  {
   "cell_type": "code",
   "execution_count": 5,
   "metadata": {},
   "outputs": [],
   "source": [
    "alphabet = \"ABCDEFGHIJKLMNOPQRSTUVWXYZ\"\n",
    "# convert element from base 10 to base 26\n",
    "max_n = 17575\n",
    "# Each number encrypts 3 characters\n",
    "# Each coordinate base 26 corresponds to one character\n",
    "def decode_char(n: int) -> str:\n",
    "    if n> max_n or n <0:\n",
    "        raise ValueError(n, \"is not a valid number \\\n",
    "                        to decode: 0 <= n <=\", max_n)\n",
    "    res = \"\"\n",
    "    first_coord = n//(26*26)\n",
    "    res += alphabet[first_coord]\n",
    "    \n",
    "    n = n - first_coord * (26*26)\n",
    "    second_coord = n//26\n",
    "    res += alphabet[second_coord]\n",
    "    \n",
    "    n = n - second_coord * 26 \n",
    "    third_coord = n\n",
    "    res += alphabet[third_coord]\n",
    "    \n",
    "    return res\n",
    "    "
   ]
  },
  {
   "cell_type": "code",
   "execution_count": 6,
   "metadata": {},
   "outputs": [
    {
     "name": "stdout",
     "output_type": "stream",
     "text": [
      "DOG\n",
      "CAT\n",
      "ZZZ\n"
     ]
    }
   ],
   "source": [
    "# Checking if the decode function works\n",
    "print(decode_char(2398))\n",
    "print(decode_char(1371))\n",
    "print(decode_char(17575))"
   ]
  },
  {
   "cell_type": "code",
   "execution_count": 8,
   "metadata": {},
   "outputs": [],
   "source": [
    "# Decoding all the characters given in the problem\n",
    "cipher_texts = [(3781, 14409), (5400, 31486), (31590, 26470), (16160, 3129), (30555, 24611), (1616, 14170), (14130, 22010), (26004, 25056), (29538, 5408), (1777, 8737), (23258, 3468), (8836, 25898), (10422, 5552), (25115, 10840), (23418, 22058), (19886, 22344), (21563, 7891), (24271, 8480), (30499, 14423), (24875, 17641), (3576, 4630), (3149, 7400), (21541, 19004), (17561, 11884), (26521, 5803), (28327, 19237),\n",
    "(31552, 3930), (19936, 721), (3781, 14409), (301, 17252), (20501, 2922), (4294, 2307), (25910, 19663), (5400, 31486), (3149, 7400), (26117, 14251), (26052, 20545), (8794, 17358), (1777, 8737), (14130, 22010), (24139, 9580), (21600, 25505), (28250, 21321), (26592, 25457), (5839, 24179), (1777, 8737), (26664, 27572), (8951, 29435), (5865, 29526), (2209, 6107), (14884, 14280), (15313, 28649),\n",
    "(27214, 15442), (27765, 29284), (15898, 30844), (24689, 7776), (13659, 5015), (2320, 29174), (19557, 10145), (9526, 3019), (9396, 3058), (7129, 18195), (21958, 5713), (1777, 8737), (3780, 16360), (16081, 16414), (173, 17075), (27119, 19921), (28327, 19237), (9660, 7939), (12846, 6598), (18825, 19671), (27011, 29164), (2059, 3977), (10536, 6941), (10422, 5552), (4328, 8635),\n",
    "(5809, 30274), (29820, 7710), (19048, 12914), (28856, 15720), (5740, 31233), (3036, 20132), (18899, 27609), (12962, 15189), (27149, 20535), (25302, 10248), (346, 31194), (25038, 12483), (11685, 133), (28580, 20845), (2016, 18131), (23312, 16906), (15313, 28649), (10267, 20623), (9284, 27858), (31306, 11929), (22763, 8992), (16258, 30341), (1777, 8737), (19371, 21005), (28250, 21321)]"
   ]
  },
  {
   "cell_type": "code",
   "execution_count": 9,
   "metadata": {},
   "outputs": [],
   "source": [
    "# loop over ciphertext tuples to decrypt them\n",
    "p = 31847\n",
    "alpha = 5\n",
    "a = 7899\n",
    "beta = 18074\n",
    "def decrypt_all(cipher_texts: List[List[List[int]]]) -> str:\n",
    "    decrypted_texts = list()\n",
    "    for line in cipher_texts:\n",
    "        for cipher_text in line:\n",
    "            if (tuple(cipher_text) == (0,0)):\n",
    "                continue\n",
    "            decrypted = decrypt_el_gamal(tuple(cipher_text), a, p)\n",
    "            decrypted_texts.append(decode_char(decrypted))\n",
    "    \n",
    "    return ' '.join(decrypted_texts)\n"
   ]
  },
  {
   "cell_type": "code",
   "execution_count": 10,
   "metadata": {},
   "outputs": [],
   "source": [
    "arr = np.array(cipher_texts)"
   ]
  },
  {
   "cell_type": "code",
   "execution_count": 11,
   "metadata": {},
   "outputs": [],
   "source": [
    " new_arr = np.zeros((26, 4, 2), dtype = int)"
   ]
  },
  {
   "cell_type": "code",
   "execution_count": 12,
   "metadata": {},
   "outputs": [],
   "source": [
    "new_arr[:, 0] = arr[:26]\n",
    "new_arr[:, 1] = arr[26:52]\n",
    "new_arr[:25, 2] = arr[52:77]\n",
    "new_arr[:25, 3] = arr[77:]"
   ]
  },
  {
   "cell_type": "code",
   "execution_count": 13,
   "metadata": {},
   "outputs": [
    {
     "data": {
      "text/plain": [
       "'SHE STA NDS UPI NTH EGA RDE NWH ERE SHE HAS BEE NWO RKI NGA NDL OOK SIN TOT HED IST ANC ESH EHA SSE NSE DAC HAN GEI NTH EWE ATH ERT HER EIS ANO THE RGU STO FWI NDA BUC KLE OFN OIS EIN THE AIR AND THE TAL LCY PRE SSE SSW AYS HET URN SAN DMO VES UPH ILL TOW ARD STH EHO USE CLI MBI NGO VER ALO WWA LLF EEL ING THE FIR STD ROP SOF RAI NON HER BAR EAR MSS HEC ROS SES THE LOG GIA AND QUI CKL YEN TER STH EHO USE'"
      ]
     },
     "execution_count": 13,
     "metadata": {},
     "output_type": "execute_result"
    }
   ],
   "source": [
    "decrypt_all(new_arr)"
   ]
  },
  {
   "cell_type": "code",
   "execution_count": null,
   "metadata": {},
   "outputs": [],
   "source": []
  }
 ],
 "metadata": {
  "kernelspec": {
   "display_name": "Python 3",
   "language": "python",
   "name": "python3"
  },
  "language_info": {
   "codemirror_mode": {
    "name": "ipython",
    "version": 3
   },
   "file_extension": ".py",
   "mimetype": "text/x-python",
   "name": "python",
   "nbconvert_exporter": "python",
   "pygments_lexer": "ipython3",
   "version": "3.7.3"
  }
 },
 "nbformat": 4,
 "nbformat_minor": 2
}
