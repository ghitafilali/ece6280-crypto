{
 "cells": [
  {
   "cell_type": "code",
   "execution_count": 1,
   "metadata": {},
   "outputs": [],
   "source": [
    "from typing import Set, Dict, List\n",
    "import numpy as np"
   ]
  },
  {
   "cell_type": "code",
   "execution_count": 2,
   "metadata": {},
   "outputs": [],
   "source": [
    "cipher_text = \"yysjxbysjxnkwkpjucfhyeswwyysotqcvwbxrzdinessgizoetugzwhwtvskidmsiucslkjvgobqcbwo\"\\\n",
    "            + \"jiuwmftfglxrbvxfkhzxhfbwlzerwkmzghbsvgamjczzbrysggqpgsrxxcgwkvbuxxdocxlfcvgjzuzut\"\\\n",
    "            + \"igkiwzbybxkvwfnjqzbjwwffjrbvbbfbvxwztavtlzvizkofhyzcfbsywkajrroaduclajpasdjxcgwsvw\"\\\n",
    "            + \"yagffkbxehambysjxyysjxfisuhbjpmmmvfwmmvfwtwvbgvtngtxkffwbglwdmfnodenuokdyfyfhbnvsm\"\\\n",
    "            + \"nnokpfczaglzbgkbrzdbsxcmmferlhbycebbrgdbpvhgznmsgykvbkxxfawmmzbymmvfwbxkvsmifskgyc\"\\\n",
    "            + \"cnxfnodeyyolpfehkbyucogntcmeijoqxqmskmtyweuzkwllsfhweavgwqfthdrferawwrhzxwysktnuwl\"\\\n",
    "            +\"ytivafxvzxbxvszbrkvwkjsfaglzbytxkcfxliokijutakrcmtryyslhuzbwthyvsgicwcxfecdwxkcfxxr\"\\\n",
    "            + \"jszjrfexiysehavgagirfcgjjgslnkgwxrjhgfjeclhkncgwxfbdrferlajjvswjftlkjvgzxbzzdgtkug\"\\\n",
    "            + \"ujywfwmzgxtyysjlxrmaglrbvajcwcxxyonbsxhzhzxvlhkzhkhbvzdaj\"\\\n",
    "            + \"joqlfxoaglfcvyjeqwlrrywztfrfxnxvthwj\""
   ]
  },
  {
   "cell_type": "code",
   "execution_count": 3,
   "metadata": {},
   "outputs": [],
   "source": [
    "proba_distrib: Dict[str, float] = {\"a\": 0.082, \"b\": 0.015,\n",
    "                                  \"c\": 0.028, \"d\": 0.043,\n",
    "                                  \"e\": 0.127, \"f\": 0.022,\n",
    "                                  \"g\": 0.020, \"h\": 0.061,\n",
    "                                  \"i\": 0.070, \"j\": 0.002,\n",
    "                                  \"k\": 0.008, \"l\": 0.040,\n",
    "                                  \"m\": 0.024, \"n\": 0.067,\n",
    "                                  \"o\": 0.075, \"p\": 0.019,\n",
    "                                  \"q\": 0.001, \"r\": 0.060,\n",
    "                                  \"s\": 0.063, \"t\": 0.091,\n",
    "                                  \"u\": 0.028, \"v\": 0.010,\n",
    "                                  \"w\": 0.023, \"x\": 0.001,\n",
    "                                  \"y\": 0.020, \"z\": 0.001}\n",
    "alphabet = sorted(list(proba_distrib.keys()))"
   ]
  },
  {
   "cell_type": "code",
   "execution_count": 4,
   "metadata": {},
   "outputs": [],
   "source": [
    "def compute_n_grams_occurences(text: str, n: int) -> Dict[str, List[int]]:\n",
    "    \"\"\"\n",
    "    Returns a dictionary that maps substrings of text of length n to the indices\n",
    "    at which these substrings occur.\n",
    "    \"\"\"\n",
    "    n_grams_occurences = dict()\n",
    "    for index in range(len(text) - n):\n",
    "        n_gram = text[index: index + n]\n",
    "        n_grams_occurences[n_gram] = n_grams_occurences.get(n_gram, [])\n",
    "        n_grams_occurences[n_gram].append(index)\n",
    "    \n",
    "    return n_grams_occurences"
   ]
  },
  {
   "cell_type": "markdown",
   "metadata": {},
   "source": [
    "We are only going to keep the trigrams that are repeated more than 3 time to make sure we didn't stumble onto random repetitions"
   ]
  },
  {
   "cell_type": "code",
   "execution_count": 5,
   "metadata": {},
   "outputs": [
    {
     "data": {
      "text/plain": [
       "{'yys': [0, 25, 260, 540, 665],\n",
       " 'ysj': [1, 6, 256, 261, 666],\n",
       " 'sjx': [2, 7, 257, 262],\n",
       " 'rbv': [91, 186, 676],\n",
       " 'hzx': [97, 477, 694],\n",
       " 'cgw': [137, 237, 617],\n",
       " 'zby': [166, 386, 516],\n",
       " 'mmv': [274, 279, 389],\n",
       " 'mvf': [275, 280, 390],\n",
       " 'vfw': [276, 281, 391],\n",
       " 'agl': [333, 513, 673, 718],\n",
       " 'fer': [350, 470, 625],\n",
       " 'rfe': [469, 576, 624]}"
      ]
     },
     "execution_count": 5,
     "metadata": {},
     "output_type": "execute_result"
    }
   ],
   "source": [
    "keys_repeated = dict()\n",
    "for key, occurences in compute_n_grams_occurences(cipher_text, 3).items():\n",
    "    if len(occurences) > 2:\n",
    "        keys_repeated[key] = occurences\n",
    "\n",
    "keys_repeated"
   ]
  },
  {
   "cell_type": "markdown",
   "metadata": {},
   "source": [
    "Now we're going the compute the distances between the keys."
   ]
  },
  {
   "cell_type": "code",
   "execution_count": 6,
   "metadata": {},
   "outputs": [
    {
     "data": {
      "text/plain": [
       "{'yys': [25, 665, 260, 540],\n",
       " 'ysj': [255, 665, 260, 5],\n",
       " 'sjx': [255, 260, 5],\n",
       " 'rbv': [95, 585],\n",
       " 'hzx': [380, 597],\n",
       " 'cgw': [480, 100],\n",
       " 'zby': [220, 350],\n",
       " 'mmv': [115, 5],\n",
       " 'mvf': [5, 115],\n",
       " 'vfw': [5, 115],\n",
       " 'agl': [180, 340, 385],\n",
       " 'fer': [275, 120],\n",
       " 'rfe': [107, 155]}"
      ]
     },
     "execution_count": 6,
     "metadata": {},
     "output_type": "execute_result"
    }
   ],
   "source": [
    "def compute_distances(occurences_dict: Dict[str, List[int]]) -> Dict[str, List[int]]:\n",
    "    \"\"\"\n",
    "    Computes the distance between the first occurence of an ngram and each other \n",
    "    occurence; for every ngram.\n",
    "    If an ngram occurs less than twice, whe don't include it in the dictionary \n",
    "    we return.\n",
    "    Returns the dictionnary that maps each ngram to its set of distances.\n",
    "    \"\"\"\n",
    "    n_grams_distances = dict()\n",
    "    \n",
    "    for ngram, indexes in occurences_dict.items():\n",
    "        if len(indexes) < 2:\n",
    "            continue\n",
    "        \n",
    "        n_grams_distances[ngram] = list()\n",
    "        # We suppose that the indexes are stored in increasing order\n",
    "        # thus the first occurence index is stored in indexes[0]\n",
    "        first_occurence = indexes[0]\n",
    "        for index in set(indexes[1:]):\n",
    "            n_grams_distances[ngram].append(index - \\\n",
    "                             first_occurence)\n",
    "    \n",
    "    return n_grams_distances\n",
    "\n",
    "distances_dict = compute_distances(keys_repeated)\n",
    "distances_dict"
   ]
  },
  {
   "cell_type": "code",
   "execution_count": 7,
   "metadata": {},
   "outputs": [
    {
     "data": {
      "text/plain": [
       "{5, 10, 20}"
      ]
     },
     "execution_count": 7,
     "metadata": {},
     "output_type": "execute_result"
    }
   ],
   "source": [
    "possible_key_lengths = set()\n",
    "    \n",
    "for distances in distances_dict.values():\n",
    "    gcd = np.gcd.reduce(distances)\n",
    "    if (gcd > 1):\n",
    "        possible_key_lengths.add(gcd)\n",
    "\n",
    "possible_key_lengths"
   ]
  },
  {
   "cell_type": "markdown",
   "metadata": {},
   "source": [
    "The smallest possible key_length is 5, so let's try solving the problem with that."
   ]
  },
  {
   "cell_type": "code",
   "execution_count": 8,
   "metadata": {},
   "outputs": [],
   "source": [
    "def compute_occurences(text, alphabet) -> Dict[str, int]:\n",
    "    \"\"\"\n",
    "    Computes the occurences of each character.\n",
    "    \"\"\"\n",
    "    occurences_dict = dict(zip(alphabet, [0]*26))\n",
    "    for letter in text:\n",
    "        occurences_dict[letter] = occurences_dict.get(letter, 0) + 1\n",
    "    \n",
    "    return occurences_dict\n",
    "\n",
    "\n",
    "\n"
   ]
  },
  {
   "cell_type": "code",
   "execution_count": 9,
   "metadata": {},
   "outputs": [],
   "source": [
    "def y_matrix(cipher_text: str, key_length: int) -> List[List[str]]:\n",
    "    \"\"\"\n",
    "    Each line of the matrix contrain the letters that are supposedly ecrypted by\n",
    "    the same letter.\n",
    "    \"\"\"\n",
    "    #Creating the matrix\n",
    "    y_matrix = list()\n",
    "    for i in range(key_length):\n",
    "        y_matrix.append(list())\n",
    "\n",
    "    # Now that we have our matrix, let's fill it up\n",
    "    for i in range(len(cipher_text)):\n",
    "        y_matrix[i%key_length].append(cipher_text[i])\n",
    "    \n",
    "    return y_matrix\n",
    "y_ma = y_matrix(cipher_text, 5)\n"
   ]
  },
  {
   "cell_type": "code",
   "execution_count": 10,
   "metadata": {},
   "outputs": [],
   "source": [
    "def compute_mg(yi: List[str], cipher_text: str, \\\n",
    "               proba_distrib: Dict[str, float], key_length: int) -> List[float]:\n",
    "    \"\"\"\n",
    "    Computes the Mg quantity of a line of letters suposedly encoded by the same\n",
    "    letter.\n",
    "    \"\"\"\n",
    "    # The letters are stored in alphabetical order\n",
    "    alphabet = sorted(list(proba_distrib.keys()))\n",
    "    letter_indexes = dict(zip(alphabet, range(26)))\n",
    "\n",
    "    n_ = len(cipher_text) / key_length # length of the string yi\n",
    "    #frequency of each letter in the substring yi\n",
    "    frequencies_in_yi: Dict[str, int] = compute_occurences(yi, alphabet) \n",
    "    mg_vector = []\n",
    "    for g in range(len(alphabet)):\n",
    "        #here we are iterating over the possible keys denoted by g\n",
    "        mg = 0\n",
    "        for i in range(len(frequencies_in_yi)):\n",
    "            #here we are iterating over the letters in yi\n",
    "            pi = list(proba_distrib.values())[i]\n",
    "            fi_plus_g = list(frequencies_in_yi.values())[(i+g)%26]\n",
    "            mg += pi * fi_plus_g\n",
    "        mg = mg/n_\n",
    "        mg_vector.append(mg)\n",
    "    \n",
    "    return mg_vector"
   ]
  },
  {
   "cell_type": "code",
   "execution_count": 11,
   "metadata": {},
   "outputs": [
    {
     "data": {
      "text/plain": [
       "['f', 'r', 'o', 's', 't']"
      ]
     },
     "execution_count": 11,
     "metadata": {},
     "output_type": "execute_result"
    }
   ],
   "source": [
    "key_length = 5\n",
    "key = []\n",
    "for i in range(key_length):\n",
    "    mg_vect = compute_mg(y_ma[i], cipher_text, proba_distrib, key_length)\n",
    "    max_mg = max(mg_vect)\n",
    "    index_max = [ind for ind, val in enumerate(mg_vect) if val == max_mg][0]\n",
    "    key.append(alphabet[index_max])\n",
    "\n",
    "key\n"
   ]
  },
  {
   "cell_type": "markdown",
   "metadata": {},
   "source": [
    "Now that we have the key, let's decrypt the cipher_text:"
   ]
  },
  {
   "cell_type": "code",
   "execution_count": 12,
   "metadata": {},
   "outputs": [],
   "source": [
    "def decrypt(ciphertext, key):\n",
    "    key_length = len(key)\n",
    "    key_as_int = [ord(i) for i in key]\n",
    "    ciphertext_int = [ord(i) for i in ciphertext]\n",
    "    plaintext = ''\n",
    "    for i in range(len(ciphertext_int)):\n",
    "        value = (ciphertext_int[i] - key_as_int[i % key_length]) % 26\n",
    "        plaintext += chr(value + 65)\n",
    "    return plaintext\n",
    "plain_text = decrypt(cipher_text, key)"
   ]
  },
  {
   "cell_type": "markdown",
   "metadata": {},
   "source": []
  },
  {
   "cell_type": "markdown",
   "metadata": {},
   "source": [
    "The plaintext obtained is:\n",
    "\n",
    "THEREWHEREITISWEDONOTNEEDTHEWALLHEISALLPINEANDIAMAPPLEORCH\n",
    "ARDMYAPPLETREESWILLNEVERGETACROSSANDEATTHECONESUNDERHISPIN\n",
    "ESITELLHIMHEONLYSAYSGOODFENCESMAKEGOODNEIGHBORSSPRINGISTHE\n",
    "MISCHIEFINMEANDIWONDERIFICOULDPUTANOTIONINHISHEADWHYDOTHEY\n",
    "MAKEGOODNEIGHBORSISNTITWHERETHEREARECOWSBUTHERETHEREARENOC\n",
    "OWSBEFOREIBUILTAWALLIDASKTOKNOWWHATIWASWALLINGINORWALLINGO\n",
    "UTANDTOWHOMIWASLIKETOGIVEOFFENSESOMETHINGTHEREISTHATDOESNT\n",
    "LOVEAWALLTHATWANTSITDOWNICOULDSAYELVESTOHIMBUTITSNOTELVESE\n",
    "XACTLYANDIDRATHERHESAIDITFORHIMSELFISEEHIMTHEREBRINGINGAST\n",
    "ONEGRASPEDFIRMLYBYTHETOPINEACHHANDLIKEANOLDSTONESAVAGEARME\n",
    "DHEMOVESINDARKNESSASITSEEMSTOMENOTOFWOODSONLYANDTHESHADEOF\n",
    "TREESHEWILLNOTGOBEHINDHISFATHERSSAYINGANDHELIKESHAVIN\n",
    "\n",
    "THOUGHTOFITSOWELLHESAYSAGAINGOODFENCESMAKEGOODNEIGHBORS"
   ]
  },
  {
   "cell_type": "code",
   "execution_count": null,
   "metadata": {},
   "outputs": [],
   "source": []
  }
 ],
 "metadata": {
  "kernelspec": {
   "display_name": "Python 3",
   "language": "python",
   "name": "python3"
  },
  "language_info": {
   "codemirror_mode": {
    "name": "ipython",
    "version": 3
   },
   "file_extension": ".py",
   "mimetype": "text/x-python",
   "name": "python",
   "nbconvert_exporter": "python",
   "pygments_lexer": "ipython3",
   "version": "3.7.1"
  }
 },
 "nbformat": 4,
 "nbformat_minor": 2
}
